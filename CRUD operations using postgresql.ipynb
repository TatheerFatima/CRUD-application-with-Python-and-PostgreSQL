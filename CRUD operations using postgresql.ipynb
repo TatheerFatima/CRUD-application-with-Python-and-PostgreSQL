{
 "cells": [
  {
   "cell_type": "markdown",
   "metadata": {},
   "source": [
    "# CRUD operations with Python and PostgreSQL"
   ]
  },
  {
   "cell_type": "code",
   "execution_count": null,
   "metadata": {},
   "outputs": [],
   "source": [
    "#pip install psycopg2\n",
    "#psycopg2 module to perform database operations on PostgreSQL database"
   ]
  },
  {
   "cell_type": "code",
   "execution_count": 1,
   "metadata": {},
   "outputs": [],
   "source": [
    "import psycopg2"
   ]
  },
  {
   "cell_type": "markdown",
   "metadata": {},
   "source": [
    "### Connection to postgresql server"
   ]
  },
  {
   "cell_type": "code",
   "execution_count": 2,
   "metadata": {},
   "outputs": [],
   "source": [
    "new_connection = psycopg2.connect( database = \"postgres\", user = \"postgres\", \n",
    "                                  password = \"0000\", host = \"127.0.0.1\", port = \"5432\")"
   ]
  },
  {
   "cell_type": "code",
   "execution_count": 4,
   "metadata": {},
   "outputs": [],
   "source": [
    "#To get cursor object which is used to create queries \n",
    "new_connection.autocommit = True\n",
    "cursor = new_connection.cursor()"
   ]
  },
  {
   "cell_type": "markdown",
   "metadata": {},
   "source": [
    "### Creating Database"
   ]
  },
  {
   "cell_type": "code",
   "execution_count": 12,
   "metadata": {},
   "outputs": [],
   "source": [
    "query = \"CREATE DATABASE Food_Inventory\"\n",
    "cursor.execute(query)"
   ]
  },
  {
   "cell_type": "markdown",
   "metadata": {},
   "source": [
    "#### Connecting to the database created above"
   ]
  },
  {
   "cell_type": "code",
   "execution_count": 11,
   "metadata": {},
   "outputs": [],
   "source": [
    "database_connection = psycopg2.connect(database = \"food_inventory\", user = \"postgres\",\n",
    "                                       password = \"0000\", host = \"127.0.0.1\", port = \"5432\")"
   ]
  },
  {
   "cell_type": "markdown",
   "metadata": {},
   "source": [
    "### Creating Table "
   ]
  },
  {
   "cell_type": "code",
   "execution_count": 13,
   "metadata": {},
   "outputs": [],
   "source": [
    "table_query = \"\"\" CREATE TABLE IF NOT EXISTS food (\n",
    "id SERIAL PRIMARY KEY,\n",
    "name TEXT,\n",
    "price INTEGER,\n",
    "company TEXT,\n",
    "quantity INTEGER\n",
    ");\n",
    "\"\"\""
   ]
  },
  {
   "cell_type": "code",
   "execution_count": 14,
   "metadata": {},
   "outputs": [],
   "source": [
    "database_connection.autocommit = True  #“autocommit” set to True means you don’t have to commit your queries again and again.\n",
    "cursor = database_connection.cursor()\n",
    "cursor.execute(table_query)"
   ]
  },
  {
   "cell_type": "markdown",
   "metadata": {},
   "source": [
    "### Inserting Values"
   ]
  },
  {
   "cell_type": "code",
   "execution_count": 17,
   "metadata": {},
   "outputs": [],
   "source": [
    "food = [(\"Noodles\", 40, \"Knorr\", 10 ),\n",
    "        (\"Pasta\", 100, \"Kolson\", 20),\n",
    "        (\"Pizza\", 200, \"Broadway\", 30 ),\n",
    "        (\"Chocolato\", 50, \"Bisconni\", 40 ),\n",
    "        (\"Pepsi\", 50, \"Pepsico\", 50 ), ] #List Of Tuples\n",
    "\n",
    "food_records = \", \".join([\"%s\"] * len(food))#using , as a seperator and %s shows that you want to add a string into a string \n",
    "\n",
    "insert_query = (\n",
    "    f\"INSERT INTO food (name, price, company, quantity) VALUES {food_records}\"\n",
    ")"
   ]
  },
  {
   "cell_type": "code",
   "execution_count": 18,
   "metadata": {},
   "outputs": [],
   "source": [
    "cursor.execute(insert_query, food)"
   ]
  },
  {
   "cell_type": "markdown",
   "metadata": {},
   "source": [
    "### Reading Data"
   ]
  },
  {
   "cell_type": "code",
   "execution_count": 19,
   "metadata": {},
   "outputs": [
    {
     "name": "stdout",
     "output_type": "stream",
     "text": [
      "(1, 'Noodles', 40, 'Knorr', 10)\n",
      "(2, 'Pasta', 100, 'Kolson', 20)\n",
      "(3, 'Pizza', 200, 'Broadway', 30)\n",
      "(4, 'Chocolato', 50, 'Bisconni', 40)\n",
      "(5, 'Pepsi', 50, 'Pepsico', 50)\n"
     ]
    }
   ],
   "source": [
    "select_query = \"SELECT * FROM food\"\n",
    "cursor.execute(select_query)\n",
    "\n",
    "foods = cursor.fetchall()   #for all records\n",
    "\n",
    "for food in foods:\n",
    "    print(food)"
   ]
  },
  {
   "cell_type": "markdown",
   "metadata": {},
   "source": [
    "### Update Data"
   ]
  },
  {
   "cell_type": "code",
   "execution_count": 22,
   "metadata": {},
   "outputs": [],
   "source": [
    "update_query = \"\"\" UPDATE food SET name = 'coke' WHERE quantity = 50\n",
    "\"\"\"\n",
    "cursor.execute(update_query)"
   ]
  },
  {
   "cell_type": "code",
   "execution_count": 23,
   "metadata": {},
   "outputs": [
    {
     "name": "stdout",
     "output_type": "stream",
     "text": [
      "(1, 'Noodles', 40, 'Knorr', 10)\n",
      "(2, 'Pasta', 100, 'Kolson', 20)\n",
      "(3, 'Pizza', 200, 'Broadway', 30)\n",
      "(4, 'Chocolato', 50, 'Bisconni', 40)\n",
      "(5, 'coke', 50, 'Pepsico', 50)\n"
     ]
    }
   ],
   "source": [
    "cursor.execute(select_query)\n",
    "\n",
    "foods = cursor.fetchall()   #for all records\n",
    "\n",
    "for food in foods:\n",
    "    print(food)"
   ]
  },
  {
   "cell_type": "markdown",
   "metadata": {},
   "source": [
    "### Deleting Data"
   ]
  },
  {
   "cell_type": "code",
   "execution_count": 24,
   "metadata": {},
   "outputs": [],
   "source": [
    "delete_query = \"DELETE FROM food WHERE name = 'coke'\"\n",
    "\n",
    "cursor.execute(delete_query)"
   ]
  },
  {
   "cell_type": "code",
   "execution_count": 25,
   "metadata": {},
   "outputs": [
    {
     "name": "stdout",
     "output_type": "stream",
     "text": [
      "(1, 'Noodles', 40, 'Knorr', 10)\n",
      "(2, 'Pasta', 100, 'Kolson', 20)\n",
      "(3, 'Pizza', 200, 'Broadway', 30)\n",
      "(4, 'Chocolato', 50, 'Bisconni', 40)\n"
     ]
    }
   ],
   "source": [
    "cursor.execute(select_query)\n",
    "\n",
    "foods = cursor.fetchall()   #for all records\n",
    "\n",
    "for food in foods:\n",
    "    print(food)"
   ]
  }
 ],
 "metadata": {
  "kernelspec": {
   "display_name": "Python 3",
   "language": "python",
   "name": "python3"
  },
  "language_info": {
   "codemirror_mode": {
    "name": "ipython",
    "version": 3
   },
   "file_extension": ".py",
   "mimetype": "text/x-python",
   "name": "python",
   "nbconvert_exporter": "python",
   "pygments_lexer": "ipython3",
   "version": "3.7.4"
  }
 },
 "nbformat": 4,
 "nbformat_minor": 2
}
